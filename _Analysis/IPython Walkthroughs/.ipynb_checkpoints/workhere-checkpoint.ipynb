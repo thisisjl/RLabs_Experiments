{
 "cells": [
  {
   "cell_type": "code",
   "execution_count": 3,
   "metadata": {
    "collapsed": true
   },
   "outputs": [],
   "source": [
    "import os, sys\n",
    "lib_path = os.path.abspath(os.path.join('../..','_Libraries'))\n",
    "sys.path.append(lib_path)\n",
    "from rlabs_libutils import DataStruct, select_data, create_outlier_df, find_nearest_above, uniquelist_withidx\n",
    "from rlabs_liblinreg import method1_useamboutls, method2_splitintrvl # new library for the linear regression functions\n",
    "import matplotlib.pyplot as plt\n",
    "import numpy as np\n",
    "from scipy import stats\n",
    "from itertools import izip\n",
    "#%matplotlib inline"
   ]
  },
  {
   "cell_type": "markdown",
   "metadata": {},
   "source": [
    "#Read raw data\n",
    "**Note**: a window will apear with which you can select the data, this window can be hidden by the browser"
   ]
  },
  {
   "cell_type": "code",
   "execution_count": 4,
   "metadata": {
    "collapsed": false
   },
   "outputs": [
    {
     "name": "stdout",
     "output_type": "stream",
     "text": [
      "Plaid-15.06.11_16.14_jl_nofix_replication_eyetracker_data.txt: eyetracker data (38 colums format)\n",
      "Trial 1 - 1.5 % of data was lost. SNR: 0.928862926542. CV: 1.07658511436\n",
      "Trial 2 - 0.7 % of data was lost. SNR: 0.407201998552. CV: 2.45578362473\n",
      "Trial 3 - 1.3 % of data was lost. SNR: 0.761812301826. CV: 1.31265929626\n",
      "Trial 4 - 2.2 % of data was lost. SNR: 0.823482607092. CV: 1.21435473122\n",
      "Trial 5 - 3.1 % of data was lost. SNR: 0.806924052454. CV: 1.23927400225\n"
     ]
    }
   ],
   "source": [
    "path = select_data()\n",
    "ds = DataStruct(path)"
   ]
  },
  {
   "cell_type": "markdown",
   "metadata": {},
   "source": [
    "**Create outlier DataFrame**"
   ]
  },
  {
   "cell_type": "code",
   "execution_count": 5,
   "metadata": {
    "collapsed": false
   },
   "outputs": [
    {
     "name": "stderr",
     "output_type": "stream",
     "text": [
      "C:\\Python27\\lib\\site-packages\\pandas\\computation\\expressions.py:21: UserWarning: The installed version of numexpr 1.4.2 is not supported in pandas and will be not be used\n",
      "The minimum supported version is 2.1\n",
      "\n",
      "  \"version is 2.1\\n\".format(ver=ver), UserWarning)\n"
     ]
    }
   ],
   "source": [
    "outlier_threshold = 100  # velocity values over 100 will be outliers.\n",
    "ambiguousoutlier_th = 80 # velocity values between 80 and 100 will be ambiguous outliers.\n",
    "filter_samples = 5       # the samples following an outlier will not be outliers.\n",
    "\n",
    "df = create_outlier_df(ds,outlier_threshold = outlier_threshold, \n",
    "                      ambiguousoutlier_th = ambiguousoutlier_th, filter_samples = filter_samples)"
   ]
  },
  {
   "cell_type": "markdown",
   "metadata": {},
   "source": [
    "#Compute linear regression of Gaze position between outliers"
   ]
  },
  {
   "cell_type": "code",
   "execution_count": 6,
   "metadata": {
    "collapsed": true
   },
   "outputs": [],
   "source": [
    "outlier_idx = np.where(df['Outlierfiltered'])[0]\n",
    "n = len(outlier_idx)-1\n",
    "lr_struct = []\n",
    "for i in range(n):\n",
    "    lr_struct.append(regressionbtwpoints(df, outlier_idx[i], outlier_idx[i+1]))"
   ]
  },
  {
   "cell_type": "code",
   "execution_count": 17,
   "metadata": {
    "collapsed": false
   },
   "outputs": [
    {
     "name": "stdout",
     "output_type": "stream",
     "text": [
      "0000000000000000000000000000\n"
     ]
    },
    {
     "ename": "TypeError",
     "evalue": "the label [1548.9] is not a proper indexer for this index type (Int64Index)",
     "output_type": "error",
     "traceback": [
      "\u001b[1;31m---------------------------------------------------------------------------\u001b[0m",
      "\u001b[1;31mTypeError\u001b[0m                                 Traceback (most recent call last)",
      "\u001b[1;32m<ipython-input-17-8254e540e926>\u001b[0m in \u001b[0;36m<module>\u001b[1;34m()\u001b[0m\n\u001b[0;32m      7\u001b[0m \u001b[1;33m\u001b[0m\u001b[0m\n\u001b[0;32m      8\u001b[0m     \u001b[0mfit\u001b[0m \u001b[1;33m=\u001b[0m \u001b[0mregressionbtwpoints\u001b[0m\u001b[1;33m(\u001b[0m\u001b[0mdf\u001b[0m\u001b[1;33m,\u001b[0m \u001b[0moutlier_idx\u001b[0m\u001b[1;33m[\u001b[0m\u001b[0mi\u001b[0m\u001b[1;33m]\u001b[0m\u001b[1;33m,\u001b[0m \u001b[0moutlier_idx\u001b[0m\u001b[1;33m[\u001b[0m\u001b[0mi\u001b[0m\u001b[1;33m+\u001b[0m\u001b[1;36m1\u001b[0m\u001b[1;33m]\u001b[0m\u001b[1;33m)\u001b[0m                                             \u001b[1;31m# compute the linear regression between an outlier and the next outlier\u001b[0m\u001b[1;33m\u001b[0m\u001b[0m\n\u001b[1;32m----> 9\u001b[1;33m     \u001b[0mrefineregression\u001b[0m\u001b[1;33m(\u001b[0m\u001b[0mfit\u001b[0m\u001b[1;33m,\u001b[0m \u001b[0mminintervallen\u001b[0m \u001b[1;33m=\u001b[0m \u001b[1;36m30\u001b[0m\u001b[1;33m,\u001b[0m \u001b[0mthresrsq\u001b[0m \u001b[1;33m=\u001b[0m \u001b[1;36m0.3\u001b[0m\u001b[1;33m)\u001b[0m\u001b[1;33m\u001b[0m\u001b[0m\n\u001b[0m",
      "\u001b[1;32m<ipython-input-12-4365b178ab07>\u001b[0m in \u001b[0;36mrefineregression\u001b[1;34m(fit, minintervallen, thresrsq, thresslo, fs, minsamples)\u001b[0m\n\u001b[0;32m     13\u001b[0m \u001b[1;33m\u001b[0m\u001b[0m\n\u001b[0;32m     14\u001b[0m             \u001b[1;32mif\u001b[0m \u001b[0muse_m1\u001b[0m\u001b[1;33m:\u001b[0m                                                                                                                                          \u001b[1;31m# if yes,\u001b[0m\u001b[1;33m\u001b[0m\u001b[0m\n\u001b[1;32m---> 15\u001b[1;33m                 \u001b[0mm1_struct\u001b[0m \u001b[1;33m=\u001b[0m \u001b[0mmethod1_useamboutls\u001b[0m\u001b[1;33m(\u001b[0m\u001b[0mdf\u001b[0m\u001b[1;33m,\u001b[0m \u001b[0mitvl_start\u001b[0m\u001b[1;33m,\u001b[0m \u001b[0mitvl_end\u001b[0m\u001b[1;33m,\u001b[0m \u001b[0mminsamples\u001b[0m\u001b[1;33m)\u001b[0m           \u001b[1;31m# use method 1\u001b[0m\u001b[1;33m\u001b[0m\u001b[0m\n\u001b[0m\u001b[0;32m     16\u001b[0m \u001b[1;33m\u001b[0m\u001b[0m\n\u001b[0;32m     17\u001b[0m             \u001b[1;31m# use splitting algorithm (method 2) -  -  -  -  -  -  -  -  -  -  -  -  -  -  -  -  -  -  -  -  -  -  -  -  -  -  -  -  -  -  -  -  -  -  -  -  -  -\u001b[0m\u001b[1;33m\u001b[0m\u001b[1;33m\u001b[0m\u001b[0m\n",
      "\u001b[1;32mC:\\Users\\NuEye\\Google Drive\\NuEyeUPF\\RubinLabs_Experiments\\_Libraries\\rlabs_liblinreg.pyc\u001b[0m in \u001b[0;36mmethod1_useamboutls\u001b[1;34m(df, itvl_start, itvl_end, btwpoints)\u001b[0m\n\u001b[0;32m     77\u001b[0m         \u001b[0msgm_start\u001b[0m \u001b[1;33m=\u001b[0m \u001b[0mnwlridx\u001b[0m\u001b[1;33m[\u001b[0m\u001b[0mj\u001b[0m\u001b[1;33m]\u001b[0m                              \u001b[1;31m# get the segment start\u001b[0m\u001b[1;33m\u001b[0m\u001b[0m\n\u001b[0;32m     78\u001b[0m         \u001b[0msgm_end\u001b[0m \u001b[1;33m=\u001b[0m \u001b[0mnwlridx\u001b[0m\u001b[1;33m[\u001b[0m\u001b[0mj\u001b[0m\u001b[1;33m+\u001b[0m\u001b[1;36m1\u001b[0m\u001b[1;33m]\u001b[0m                              \u001b[1;31m# get the segment end\u001b[0m\u001b[1;33m\u001b[0m\u001b[0m\n\u001b[1;32m---> 79\u001b[1;33m         \u001b[0mtmp\u001b[0m \u001b[1;33m=\u001b[0m \u001b[0mregressionbtwpoints\u001b[0m\u001b[1;33m(\u001b[0m\u001b[0mdf\u001b[0m\u001b[1;33m,\u001b[0m \u001b[0msgm_start\u001b[0m\u001b[1;33m,\u001b[0m \u001b[0msgm_end\u001b[0m\u001b[1;33m)\u001b[0m   \u001b[1;31m# compute linear regression\u001b[0m\u001b[1;33m\u001b[0m\u001b[0m\n\u001b[0m\u001b[0;32m     80\u001b[0m         \u001b[0mm1_struct\u001b[0m\u001b[1;33m.\u001b[0m\u001b[0mappend\u001b[0m\u001b[1;33m(\u001b[0m\u001b[0mtmp\u001b[0m\u001b[1;33m)\u001b[0m                               \u001b[1;31m# append results to struct\u001b[0m\u001b[1;33m\u001b[0m\u001b[0m\n\u001b[0;32m     81\u001b[0m \u001b[1;33m\u001b[0m\u001b[0m\n",
      "\u001b[1;32mC:\\Users\\NuEye\\Google Drive\\NuEyeUPF\\RubinLabs_Experiments\\_Libraries\\rlabs_liblinreg.pyc\u001b[0m in \u001b[0;36mregressionbtwpoints\u001b[1;34m(df, start, end, xlabel, ylabel)\u001b[0m\n\u001b[0;32m     38\u001b[0m \u001b[1;33m\u001b[0m\u001b[0m\n\u001b[0;32m     39\u001b[0m     \u001b[1;31m# add results to temporal struct:\u001b[0m\u001b[1;33m\u001b[0m\u001b[1;33m\u001b[0m\u001b[0m\n\u001b[1;32m---> 40\u001b[1;33m     tmp = {'start':df['time'][start], 'end': df['time'][end], 'start_idx': start, 'end_idx':end,\n\u001b[0m\u001b[0;32m     41\u001b[0m                  \u001b[1;34m'slope'\u001b[0m\u001b[1;33m:\u001b[0m\u001b[0mslope\u001b[0m\u001b[1;33m,\u001b[0m \u001b[1;34m'intercept'\u001b[0m\u001b[1;33m:\u001b[0m \u001b[0mintercept\u001b[0m\u001b[1;33m,\u001b[0m \u001b[1;34m'r_value'\u001b[0m\u001b[1;33m:\u001b[0m \u001b[0mr_value\u001b[0m\u001b[1;33m,\u001b[0m \u001b[1;34m'p_value'\u001b[0m\u001b[1;33m:\u001b[0m \u001b[0mp_value\u001b[0m\u001b[1;33m,\u001b[0m \u001b[1;34m'std_err'\u001b[0m\u001b[1;33m:\u001b[0m \u001b[0mstd_err\u001b[0m\u001b[1;33m,\u001b[0m\u001b[1;33m\u001b[0m\u001b[0m\n\u001b[0;32m     42\u001b[0m            'r_squared': r_squared, 'resids': resids, 'RSS': RSS, 'TSS': TSS, 'R2': R2, 'std_y': std_y}\n",
      "\u001b[1;32mC:\\Python27\\lib\\site-packages\\pandas\\core\\series.pyc\u001b[0m in \u001b[0;36m__getitem__\u001b[1;34m(self, key)\u001b[0m\n\u001b[0;32m    532\u001b[0m \u001b[1;33m\u001b[0m\u001b[0m\n\u001b[0;32m    533\u001b[0m                 \u001b[1;31m# we can try to coerce the indexer (or this will raise)\u001b[0m\u001b[1;33m\u001b[0m\u001b[1;33m\u001b[0m\u001b[0m\n\u001b[1;32m--> 534\u001b[1;33m                 \u001b[0mnew_key\u001b[0m \u001b[1;33m=\u001b[0m \u001b[0mself\u001b[0m\u001b[1;33m.\u001b[0m\u001b[0mindex\u001b[0m\u001b[1;33m.\u001b[0m\u001b[0m_convert_scalar_indexer\u001b[0m\u001b[1;33m(\u001b[0m\u001b[0mkey\u001b[0m\u001b[1;33m)\u001b[0m\u001b[1;33m\u001b[0m\u001b[0m\n\u001b[0m\u001b[0;32m    535\u001b[0m                 \u001b[1;32mif\u001b[0m \u001b[0mtype\u001b[0m\u001b[1;33m(\u001b[0m\u001b[0mnew_key\u001b[0m\u001b[1;33m)\u001b[0m \u001b[1;33m!=\u001b[0m \u001b[0mtype\u001b[0m\u001b[1;33m(\u001b[0m\u001b[0mkey\u001b[0m\u001b[1;33m)\u001b[0m\u001b[1;33m:\u001b[0m\u001b[1;33m\u001b[0m\u001b[0m\n\u001b[0;32m    536\u001b[0m                     \u001b[1;32mreturn\u001b[0m \u001b[0mself\u001b[0m\u001b[1;33m.\u001b[0m\u001b[0m__getitem__\u001b[0m\u001b[1;33m(\u001b[0m\u001b[0mnew_key\u001b[0m\u001b[1;33m)\u001b[0m\u001b[1;33m\u001b[0m\u001b[0m\n",
      "\u001b[1;32mC:\\Python27\\lib\\site-packages\\pandas\\core\\index.pyc\u001b[0m in \u001b[0;36m_convert_scalar_indexer\u001b[1;34m(self, key, typ)\u001b[0m\n\u001b[0;32m    645\u001b[0m                 warnings.warn(\"scalar indexers for index type {0} should be integers and not floating point\".format(\n\u001b[0;32m    646\u001b[0m                     type(self).__name__),FutureWarning)\n\u001b[1;32m--> 647\u001b[1;33m             \u001b[1;32mreturn\u001b[0m \u001b[0mto_int\u001b[0m\u001b[1;33m(\u001b[0m\u001b[1;33m)\u001b[0m\u001b[1;33m\u001b[0m\u001b[0m\n\u001b[0m\u001b[0;32m    648\u001b[0m \u001b[1;33m\u001b[0m\u001b[0m\n\u001b[0;32m    649\u001b[0m         \u001b[1;32mreturn\u001b[0m \u001b[0mkey\u001b[0m\u001b[1;33m\u001b[0m\u001b[0m\n",
      "\u001b[1;32mC:\\Python27\\lib\\site-packages\\pandas\\core\\index.pyc\u001b[0m in \u001b[0;36mto_int\u001b[1;34m()\u001b[0m\n\u001b[0;32m    628\u001b[0m             \u001b[0mikey\u001b[0m \u001b[1;33m=\u001b[0m \u001b[0mint\u001b[0m\u001b[1;33m(\u001b[0m\u001b[0mkey\u001b[0m\u001b[1;33m)\u001b[0m\u001b[1;33m\u001b[0m\u001b[0m\n\u001b[0;32m    629\u001b[0m             \u001b[1;32mif\u001b[0m \u001b[0mikey\u001b[0m \u001b[1;33m!=\u001b[0m \u001b[0mkey\u001b[0m\u001b[1;33m:\u001b[0m\u001b[1;33m\u001b[0m\u001b[0m\n\u001b[1;32m--> 630\u001b[1;33m                 \u001b[1;32mreturn\u001b[0m \u001b[0mself\u001b[0m\u001b[1;33m.\u001b[0m\u001b[0m_convert_indexer_error\u001b[0m\u001b[1;33m(\u001b[0m\u001b[0mkey\u001b[0m\u001b[1;33m,\u001b[0m \u001b[1;34m'label'\u001b[0m\u001b[1;33m)\u001b[0m\u001b[1;33m\u001b[0m\u001b[0m\n\u001b[0m\u001b[0;32m    631\u001b[0m             \u001b[1;32mreturn\u001b[0m \u001b[0mikey\u001b[0m\u001b[1;33m\u001b[0m\u001b[0m\n\u001b[0;32m    632\u001b[0m \u001b[1;33m\u001b[0m\u001b[0m\n",
      "\u001b[1;32mC:\\Python27\\lib\\site-packages\\pandas\\core\\index.pyc\u001b[0m in \u001b[0;36m_convert_indexer_error\u001b[1;34m(self, key, msg)\u001b[0m\n\u001b[0;32m    779\u001b[0m             \u001b[0mmsg\u001b[0m \u001b[1;33m=\u001b[0m \u001b[1;34m'label'\u001b[0m\u001b[1;33m\u001b[0m\u001b[0m\n\u001b[0;32m    780\u001b[0m         raise TypeError(\"the {0} [{1}] is not a proper indexer for this index \"\n\u001b[1;32m--> 781\u001b[1;33m                         \"type ({2})\".format(msg, key, self.__class__.__name__))\n\u001b[0m\u001b[0;32m    782\u001b[0m \u001b[1;33m\u001b[0m\u001b[0m\n\u001b[0;32m    783\u001b[0m     \u001b[1;32mdef\u001b[0m \u001b[0mget_duplicates\u001b[0m\u001b[1;33m(\u001b[0m\u001b[0mself\u001b[0m\u001b[1;33m)\u001b[0m\u001b[1;33m:\u001b[0m\u001b[1;33m\u001b[0m\u001b[0m\n",
      "\u001b[1;31mTypeError\u001b[0m: the label [1548.9] is not a proper indexer for this index type (Int64Index)"
     ]
    }
   ],
   "source": [
    "outlier_idx = np.where(df['Outlierfiltered'])[0]   \t\t\t\t\t\t\t\t\t\t\t# indexes where are outliers\n",
    "amb_outlier_idx = np.where(df['isAmbiguousOutlier'])[0] \t\t\t\t\t\t\t\t\t# idexes where are ambiguous outliers\n",
    "n = len(outlier_idx)-1 \t\t\t\t\t\t\t\t\t\t\t\t\t\t\t\t\t\t# number of outliers\n",
    "lr_struct = [] \t\t\t\t\t\t\t\t\t\t\t\t\t\t\t\t\t\t\t\t# initialize linear regression list (will be populates with dicts)\n",
    "\n",
    "for i in range(n): \t\t\t\t\t\t\t\t\t\t\t\t\t\t\t\t\t\t\t# for each outlier\n",
    "\n",
    "    fit = regressionbtwpoints(df, outlier_idx[i], outlier_idx[i+1]) \t\t\t\t\t\t# compute the linear regression between an outlier and the next outlier\n",
    "    refineregression(fit, minintervallen = 30, thresrsq = 0.3)"
   ]
  },
  {
   "cell_type": "code",
   "execution_count": 12,
   "metadata": {
    "collapsed": false
   },
   "outputs": [],
   "source": [
    "def refineregression(fit, minintervallen = 30, thresrsq = 0.3, thresslo = 0.0007, fs = 120.0, minsamples = 5):\n",
    "\n",
    "    if fit['r_squared'] < thresrsq: \t\t\t\t\t\t\t\t\t\t\t\t\t\t# is the r squared value below r squared threshold?\n",
    "        nsamples = (df['time'][outlier_idx[i+1]] - df['time'][outlier_idx[i]])/1000.0 * fs \t# if yes, then get bad fit number of samples\n",
    "\n",
    "        if nsamples > minintervallen:\t\t\t\t\t\t\t\t\t\t\t\t\t\t# is the interval larger than length threshold?\n",
    "\n",
    "            itvl_start = fit['start'] \t\t\t\t\t\t\t\t\t\t\t\t\t\t# get interval start\n",
    "            itvl_end = fit['end'] \t\t\t\t\t\t\t\t\t\t\t\t\t\t\t# get interval end\n",
    "\n",
    "            # can we use ambiguous outliers? -  -  -  -  -  -  -  -  -  -  -  -  -  -  -  -  -  -  -  -  -  -  -  -  -  -  -  -  -  -  -  -  -  -  -  -  -  -  -  \n",
    "            use_m1 = (np.sum((amb_outlier_idx >= itvl_start+minsamples)\\\n",
    "                &(amb_outlier_idx <= itvl_end-minsamples))) > 0 \t\t\t\t\t\t\t# check if there are ambiguous outliers in the interval\n",
    "\n",
    "            if use_m1: \t\t\t\t\t\t\t\t\t\t\t\t\t\t\t\t\t\t# if yes,\n",
    "                m1_struct = method1_useamboutls(df, itvl_start, itvl_end, minsamples) \t\t# use method 1\n",
    "\n",
    "            # use splitting algorithm (method 2) -  -  -  -  -  -  -  -  -  -  -  -  -  -  -  -  -  -  -  -  -  -  -  -  -  -  -  -  -  -  -  -  -  -  -  -  -  -  \n",
    "            sgmts1, sgmts2, bfidx = method2_splitintrvl(df, itvl_start, itvl_end, maxdivisions, minsamples, fs = 120.0)\n",
    "\n",
    "\n",
    "            # compare results and use the best -  -  -  -  -  -  -  -  -  -  -  -  -  -  -  -  -  -  -  -  -  -  -  -  -  -  -  -  -  -  -  -  -  -  -  -  -  -  -\n",
    "            if use_m1:\n",
    "\n",
    "                cumulative_rsqrd_m1 = np.sum(np.power(np.array([item['r_value'] for item in m1_struct]),2))\n",
    "                cumulative_rsqrd_m2 = np.sum(np.power(np.array([sgmts1, sgmts2]),2))\n",
    "\n",
    "                if cumulative_rsqrd_m1 > cumulative_rsqrd_m2:\n",
    "                    refinedout = m1_struct\n",
    "                else:\n",
    "                    refinedout = [sgmts1[bfidx],sgmts2[bfidx]]\n",
    "\n",
    "            else:\n",
    "                refinedout = [sgmts1[bfidx],sgmts2[bfidx]]\n",
    "\n",
    "            #  -  -  -  -  -  -  -  -  -  -  -  -  -  -  -  -  -  -  -  -  -  -  -  -  -  -  -  -  -  -  -  -  -  -  -  -  -  -  -  -  -  -  -  -  -  -  -  -  -  -\n",
    "            out = []\n",
    "            for item in refinedout:\n",
    "                newitem = refineregression(item)\n",
    "                out.append(newitem)\n",
    "\n",
    "            return out\n",
    "\n",
    "        else:\n",
    "            # bad r squared and short interval. Ambiguous\n",
    "            fit['percept'] = classifyfit(fit, threslen = minintervallen, thresslo = thresslo, thresrsq = thresrsq)\n",
    "            return fit\n",
    "\n",
    "    else: \t\t\t\t\t\t\t\t\t\t\t\t\t\t\t\t\t\t\t\t\t# good r squared\n",
    "        fit['percept'] = classifyfit(fit, threslen = minintervallen, thresslo = thresslo, thresrsq = thresrsq)\n",
    "        return fit"
   ]
  },
  {
   "cell_type": "code",
   "execution_count": 16,
   "metadata": {
    "collapsed": true
   },
   "outputs": [],
   "source": [
    "def regressionbtwpoints(df, start, end, xlabel = 'time', ylabel = 'LEpos_int'):\n",
    "    \"\"\"\n",
    "        Compute the linear regression of df between start and end points.\n",
    "        \n",
    "        Input:\n",
    "        - df: Pandas.DataFrame containing eyetracker data\n",
    "        - start: starting point for the linear regression\n",
    "        - end: ending point for the linear regression\n",
    "        - xlabel: df data to use as horizontal axis of the linear regression. Default as 'time'\n",
    "        - ylabel: df data to use as vertical axis of the linear regression. Default as 'LEpos_int'\n",
    "\n",
    "        Output:\n",
    "        - tmp: dictionary containing linear regression results\n",
    "        \n",
    "        References:\n",
    "        - http://modelling3e4.connectmv.com/wiki/Software_tutorial/Least_squares_modelling_(linear_regression)\n",
    "\n",
    "    \"\"\"\n",
    "    lr_idx = np.arange(start, end)                                                                                  # indices array\n",
    "    n = len(lr_idx)\n",
    "    x = df[xlabel][lr_idx]\n",
    "    y = df[ylabel][lr_idx]\n",
    "\n",
    "    # compute linear regression:\n",
    "    slope, intercept, r_value, p_value, std_err = stats.linregress(x,y)\n",
    "    \n",
    "    # additional calculations:\n",
    "    r_squared = r_value**2\n",
    "    resids = y - np.dot(np.vstack([np.ones(n), x]).T, [intercept, slope])       # e = y - Xa; \n",
    "    RSS = sum(resids**2) # residual sum of squares\n",
    "    TSS = sum((y - np.mean(y))**2) # total sum of squares\n",
    "    R2 = 1 - RSS/TSS\n",
    "    std_y = np.sqrt(TSS/(n-1)) \n",
    "\n",
    "    # add results to temporal struct:\n",
    "    print '0000000000000000000000000000'\n",
    "    tmp = {'start':df['time'][start], 'end': df['time'][end], 'start_idx': start, 'end_idx':end,\n",
    "                 'slope':slope, 'intercept': intercept, 'r_value': r_value, 'p_value': p_value, 'std_err': std_err,\n",
    "           'r_squared': r_squared, 'resids': resids, 'RSS': RSS, 'TSS': TSS, 'R2': R2, 'std_y': std_y}\n",
    "\n",
    "    return tmp"
   ]
  },
  {
   "cell_type": "code",
   "execution_count": null,
   "metadata": {
    "collapsed": true
   },
   "outputs": [],
   "source": []
  },
  {
   "cell_type": "code",
   "execution_count": null,
   "metadata": {
    "collapsed": true
   },
   "outputs": [],
   "source": []
  },
  {
   "cell_type": "code",
   "execution_count": null,
   "metadata": {
    "collapsed": true
   },
   "outputs": [],
   "source": []
  },
  {
   "cell_type": "code",
   "execution_count": null,
   "metadata": {
    "collapsed": true
   },
   "outputs": [],
   "source": []
  },
  {
   "cell_type": "code",
   "execution_count": null,
   "metadata": {
    "collapsed": true
   },
   "outputs": [],
   "source": []
  }
 ],
 "metadata": {
  "kernelspec": {
   "display_name": "Python 2",
   "language": "python",
   "name": "python2"
  },
  "language_info": {
   "codemirror_mode": {
    "name": "ipython",
    "version": 2
   },
   "file_extension": ".py",
   "mimetype": "text/x-python",
   "name": "python",
   "nbconvert_exporter": "python",
   "pygments_lexer": "ipython2",
   "version": "2.7.7"
  }
 },
 "nbformat": 4,
 "nbformat_minor": 0
}
