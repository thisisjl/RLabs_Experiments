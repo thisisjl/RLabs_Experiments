{
 "cells": [
  {
   "cell_type": "code",
   "execution_count": 1,
   "metadata": {
    "collapsed": false
   },
   "outputs": [],
   "source": [
    "import os, sys\n",
    "lib_path = os.path.abspath(os.path.join('../..','_Libraries'))\n",
    "sys.path.append(lib_path)\n",
    "from rlabs_libutils import DataStruct, select_data, create_outlier_df, find_nearest_above\n",
    "from rlabs_liblinreg import * # new library for the linear regression functions\n",
    "import matplotlib.pyplot as plt\n",
    "import numpy as np\n",
    "from scipy import stats\n",
    "from itertools import izip\n",
    "#%matplotlib inline"
   ]
  },
  {
   "cell_type": "markdown",
   "metadata": {},
   "source": [
    "#Read raw data\n",
    "**Note**: a window will apear with which you can select the data, this window can be hidden by the browser"
   ]
  },
  {
   "cell_type": "code",
   "execution_count": 2,
   "metadata": {
    "collapsed": true
   },
   "outputs": [
    {
     "name": "stdout",
     "output_type": "stream",
     "text": [
      "Plaid-15.06.11_16.14_jl_nofix_replication_eyetracker_data.txt: eyetracker data (38 colums format)\n",
      "Trial 1 - 1.5 % of data was lost. SNR: 0.928862926542. CV: 1.07658511436\n",
      "Trial 2 - 0.7 % of data was lost. SNR: 0.407201998552. CV: 2.45578362473\n",
      "Trial 3 - 1.3 % of data was lost. SNR: 0.761812301826. CV: 1.31265929626\n",
      "Trial 4 - 2.2 % of data was lost. SNR: 0.823482607092. CV: 1.21435473122\n",
      "Trial 5 - 3.1 % of data was lost. SNR: 0.806924052454. CV: 1.23927400225\n"
     ]
    }
   ],
   "source": [
    "path = select_data()\n",
    "ds = DataStruct(path)"
   ]
  },
  {
   "cell_type": "markdown",
   "metadata": {},
   "source": [
    "**Create outlier DataFrame**"
   ]
  },
  {
   "cell_type": "code",
   "execution_count": 3,
   "metadata": {
    "collapsed": true
   },
   "outputs": [
    {
     "name": "stderr",
     "output_type": "stream",
     "text": [
      "C:\\Python27\\lib\\site-packages\\pandas\\computation\\expressions.py:21: UserWarning: The installed version of numexpr 1.4.2 is not supported in pandas and will be not be used\n",
      "The minimum supported version is 2.1\n",
      "\n",
      "  \"version is 2.1\\n\".format(ver=ver), UserWarning)\n"
     ]
    }
   ],
   "source": [
    "outlier_threshold = 100  # velocity values over 100 will be outliers.\n",
    "ambiguousoutlier_th = 80 # velocity values between 80 and 100 will be ambiguous outliers.\n",
    "filter_samples = 5       # the samples following an outlier will not be outliers.\n",
    "\n",
    "df = create_outlier_df(ds,outlier_threshold = outlier_threshold, \n",
    "                      ambiguousoutlier_th = ambiguousoutlier_th, filter_samples = filter_samples)"
   ]
  },
  {
   "cell_type": "markdown",
   "metadata": {
    "collapsed": true
   },
   "source": [
    "#Compute linear regression of Gaze position between outliers"
   ]
  },
  {
   "cell_type": "code",
   "execution_count": 4,
   "metadata": {
    "collapsed": false
   },
   "outputs": [],
   "source": [
    "outlier_idx = np.where(df['Outlierfiltered'])[0]\n",
    "n = len(outlier_idx)-1\n",
    "lr_struct = []\n",
    "for i in range(n):\n",
    "    lr_struct.append(regressionbtwpoints(df, outlier_idx[i], outlier_idx[i+1]))"
   ]
  },
  {
   "cell_type": "markdown",
   "metadata": {},
   "source": [
    "#Plot: \n",
    "a) gaze position with linear regression\n",
    "\n",
    "b) velocity with outliers and ambiguous outliers"
   ]
  },
  {
   "cell_type": "code",
   "execution_count": null,
   "metadata": {
    "collapsed": true
   },
   "outputs": [],
   "source": [
    "f, ax = plt.subplots(2, sharex = True)\n",
    "ax[0].plot(df['time'], df['LEpos_int'])\n",
    "\n",
    "for i in range(n):\n",
    "    \n",
    "    a = lr_struct[i]\n",
    "    axaxis = np.array([a['start'],a['end']])\n",
    "    ax[0].plot(axaxis, a['slope']*axaxis + a['intercept'], 'r')\n",
    "    \n",
    "    # compute annotation coordinates\n",
    "    x = axaxis[0] + np.diff(axaxis)[0]/2.0\n",
    "    y = np.diff(a['slope']*axaxis + a['intercept'])[0]/2.0 + 2\n",
    "    ax[0].annotate('{0}'.format(\"%.2f\" % a['r_value']**2), xy=(x,y), horizontalalignment='center', verticalalignment='bottom')\n",
    "   \n",
    "ax[1].plot(df['time'], df['velocity'])\n",
    "ax[1].scatter(df['time'][df['Outlierfiltered']], df['velocity'][df['Outlierfiltered']],color ='r')\n",
    "ax[1].scatter(df['time'][df['isAmbiguousOutlier']], df['velocity'][df['isAmbiguousOutlier']],color ='y')\n",
    "\n",
    "f.suptitle(ds.filename)\n",
    "ax[0].set_title('eye gaze with linear regression and r squared values')\n",
    "ax[1].set_title('velocity with outliers. outlier threshold = {0}'.format(outlier_threshold))\n",
    "plt.show()"
   ]
  },
  {
   "cell_type": "markdown",
   "metadata": {},
   "source": [
    "#Refine linear regression\n",
    "\n",
    "**method 1:** Using ambiguous outliers\n",
    "\n",
    "**method 2:** Spliting linear regression interval into segments\n",
    "\n",
    "**To do**: weight the linear regression with the number of points used"
   ]
  },
  {
   "cell_type": "markdown",
   "metadata": {},
   "source": [
    "# Use method 1"
   ]
  },
  {
   "cell_type": "code",
   "execution_count": 24,
   "metadata": {
    "collapsed": true
   },
   "outputs": [],
   "source": [
    "minintervallen = 50 # minimum interval length (samples)\n",
    "minsamples = 10      # minimum number of samples for a segment of the interval\n",
    "fs = 120.0           # sampling frequency of the tobii eyetracker\n",
    "badfitth = 0.3       # bad fit threshold. a regresison fit with a r_squared value below this, will be refined\n",
    "maxdivisions = 12    # maximum number of divisions to split the bad fits\n",
    "\n",
    "outlier_idx = np.where(df['Outlierfiltered'])[0]\n",
    "n = len(outlier_idx)-1\n",
    "\n",
    "m1_struct = [None]*n\n",
    "\n",
    "for i in range(n):\n",
    "    if lr_struct[i]['r_squared'] < badfitth:\n",
    "\n",
    "        # get bad fit number of samples\n",
    "        nsamples = (df['time'][outlier_idx[i+1]] - df['time'][outlier_idx[i]])/1000.0 * fs\n",
    "        \n",
    "        if nsamples > minintervallen:\n",
    "            itvl_start = outlier_idx[i]\n",
    "            itvl_end = outlier_idx[i+1]\n",
    "            \n",
    "            # method 1: if there are ambiguous outliers within:\n",
    "            amb_outlier_idx = np.where(df['isAmbiguousOutlier'])[0]\n",
    "            rthere = np.sum((amb_outlier_idx >= itvl_start+minsamples)&(amb_outlier_idx <= itvl_end-minsamples))\n",
    "            use_m1 = rthere > 0\n",
    "            if use_m1:\n",
    "                tmp_m1 = method1_useamboutls(df, itvl_start, itvl_end, minsamples)\n",
    "                m1_struct[i] = tmp_m1"
   ]
  },
  {
   "cell_type": "markdown",
   "metadata": {},
   "source": [
    "# Plot method 1 results"
   ]
  },
  {
   "cell_type": "code",
   "execution_count": null,
   "metadata": {
    "collapsed": true
   },
   "outputs": [],
   "source": [
    "f, ax = plt.subplots(2, sharex = True)\n",
    "ax[0].plot(df['time'], df['LEpos_int'])  # plot gaze\n",
    "\n",
    "for i in range(n):\n",
    "    \n",
    "    # plot linear regression\n",
    "    ax[0].plot(df['time'][outlier_idx[i:i+2]], slope_array[i]*df['time'][outlier_idx[i:i+2]] + intercept_array[i], 'r')\n",
    "    \n",
    "    # compute annotation coordinates\n",
    "    x = df['time'][outlier_idx[i]] + np.diff(df['time'][outlier_idx[i:i+2]])[0]/2.0\n",
    "    y = np.diff(slope_array[i]*df['time'][outlier_idx[i:i+2]] + intercept_array[i])[0]/2.0\n",
    "    ax[0].annotate('{0}'.format(\"%.2f\" % r_squared_array[i]), xy=(x,y), horizontalalignment='center', verticalalignment='bottom')\n",
    "\n",
    "\n",
    "    # plot refined linear regression --------------------------------------------------------------------------------------------\n",
    "    if m1_struct[i] != None:\n",
    "        for j in range(len(m1_struct[i])):\n",
    "            a = m1_struct[i][j]\n",
    "            axaxis = np.array([a['start'],a['end']])\n",
    "            ax[0].plot(axaxis, a['slope']*axaxis + a['intercept'], 'y')\n",
    "\n",
    "            # compute annotation coordinates\n",
    "            x = axaxis[0] + np.diff(axaxis)[0]/2.0\n",
    "            y = np.diff(a['slope']*axaxis + a['intercept'])[0]/2.0 + 2\n",
    "            ax[0].annotate('{0}'.format(\"%.2f\" % a['r_value']**2), xy=(x,y), horizontalalignment='center', verticalalignment='bottom')\n",
    "\n",
    "    # ------------------------------------------------------------------------------------------------------------\n",
    "    \n",
    "ax[1].plot(df['time'], df['velocity'])\n",
    "ax[1].scatter(df['time'][df['Outlierfiltered']], df['velocity'][df['Outlierfiltered']],color ='r')\n",
    "ax[1].scatter(df['time'][df['isAmbiguousOutlier']], df['velocity'][df['isAmbiguousOutlier']],color ='y')\n",
    "\n",
    "f.suptitle(ds.filename)\n",
    "ax[0].set_title('eye gaze with linear regression and r squared values')\n",
    "ax[1].set_title('velocity with outliers. outlier threshold = {0}'.format(outlier_threshold))\n",
    "plt.show()"
   ]
  },
  {
   "cell_type": "markdown",
   "metadata": {
    "collapsed": true
   },
   "source": [
    "# Use method 2"
   ]
  },
  {
   "cell_type": "code",
   "execution_count": 26,
   "metadata": {
    "collapsed": false
   },
   "outputs": [],
   "source": [
    "minintervallen = 50 # minimum interval length (samples)\n",
    "minsamples = 25      # minimum number of samples for a segment of the interval\n",
    "fs = 120.0           # sampling frequency of the tobii eyetracker\n",
    "badfitth = 0.3       # bad fit threshold. a regresison fit with a r_squared value below this, will be refined\n",
    "maxdivisions = 12    # maximum number of divisions to split the bad fits\n",
    "\n",
    "outlier_idx = np.where(df['Outlierfiltered'])[0]\n",
    "n = len(outlier_idx)-1\n",
    "\n",
    "rf_struct1 = [None]*n\n",
    "rf_struct2 = [None]*n\n",
    "rf_bfidx = [None]*n\n",
    "\n",
    "for i in range(n):\n",
    "    if lr_struct[i]['r_squared'] < badfitth:\n",
    "\n",
    "        # get bad fit number of samples\n",
    "        nsamples = (df['time'][outlier_idx[i+1]] - df['time'][outlier_idx[i]])/1000.0 * fs\n",
    "        \n",
    "        if nsamples > minintervallen:\n",
    "            itvl_start = outlier_idx[i]\n",
    "            itvl_end = outlier_idx[i+1]\n",
    "            sgmts1, sgmts2, bfidx = method2_splitintrvl(df, itvl_start, itvl_end, maxdivisions, minsamples, fs = 120.0)\n",
    "            \n",
    "            rf_struct1[i] = sgmts1\n",
    "            rf_struct2[i] = sgmts2\n",
    "            rf_bfidx[i] = bfidx"
   ]
  },
  {
   "cell_type": "markdown",
   "metadata": {},
   "source": [
    "# Plot method 2"
   ]
  },
  {
   "cell_type": "code",
   "execution_count": null,
   "metadata": {
    "collapsed": false
   },
   "outputs": [],
   "source": [
    "f, ax = plt.subplots(2, sharex = True)\n",
    "ax[0].plot(df['time'], df['LEpos_int'])  # plot gaze\n",
    "\n",
    "for i in range(n):\n",
    "    \n",
    "    # plot linear regression\n",
    "    ax[0].plot(df['time'][outlier_idx[i:i+2]], slope_array[i]*df['time'][outlier_idx[i:i+2]] + intercept_array[i], 'r')\n",
    "    \n",
    "    # compute annotation coordinates\n",
    "    x = df['time'][outlier_idx[i]] + np.diff(df['time'][outlier_idx[i:i+2]])[0]/2.0\n",
    "    y = np.diff(slope_array[i]*df['time'][outlier_idx[i:i+2]] + intercept_array[i])[0]/2.0\n",
    "    ax[0].annotate('{0}'.format(\"%.2f\" % r_squared_array[i]), xy=(x,y), horizontalalignment='center', verticalalignment='bottom')\n",
    "\n",
    "\n",
    "    # plot refined linear regression --------------------------------------------------------------------------------------------\n",
    "    if rf_struct1[i] != None:\n",
    "        a = rf_struct1[i][rf_bfidx[i]]\n",
    "    \n",
    "        axaxis = np.array([a['start'],a['end']])\n",
    "        ax[0].plot(axaxis, a['slope']*axaxis + a['intercept'], 'y')\n",
    "\n",
    "        # compute annotation coordinates\n",
    "        x = axaxis[0] + np.diff(axaxis)[0]/2.0\n",
    "        y = np.diff(a['slope']*axaxis + a['intercept'])[0]/2.0 + 2\n",
    "        ax[0].annotate('{0}'.format(\"%.2f\" % a['r_value']**2), xy=(x,y), horizontalalignment='center', verticalalignment='bottom')\n",
    "    \n",
    "        ax[0].plot([a['end'],a['end']], [-np.mean(df['LEpos_int']), np.mean(df['LEpos_int'])], 'y')\n",
    "\n",
    "        a = rf_struct2[i][rf_bfidx[i]]\n",
    "\n",
    "        axaxis = np.array([a['start'],a['end']])\n",
    "        ax[0].plot(axaxis, a['slope']*axaxis + a['intercept'], 'y')\n",
    "\n",
    "        # compute annotation coordinates\n",
    "        x = axaxis[0] + np.diff(axaxis)[0]/2.0\n",
    "        y = np.diff(a['slope']*axaxis + a['intercept'])[0]/2.0 + 2\n",
    "        ax[0].annotate('{0}'.format(\"%.2f\" % a['r_value']**2), xy=(x,y), horizontalalignment='center', verticalalignment='bottom')\n",
    "    # -----------------------------------------------------------------------------------------------------------------------------\n",
    "    \n",
    "ax[1].plot(df['time'], df['velocity'])\n",
    "ax[1].scatter(df['time'][df['Outlierfiltered']], df['velocity'][df['Outlierfiltered']],color ='r')\n",
    "ax[1].scatter(df['time'][df['isAmbiguousOutlier']], df['velocity'][df['isAmbiguousOutlier']],color ='y')\n",
    "\n",
    "f.suptitle(ds.filename)\n",
    "ax[0].set_title('eye gaze with linear regression and r squared values')\n",
    "ax[1].set_title('velocity with outliers. outlier threshold = {0}'.format(outlier_threshold))\n",
    "plt.show()"
   ]
  },
  {
   "cell_type": "markdown",
   "metadata": {},
   "source": [
    "# Stats"
   ]
  },
  {
   "cell_type": "code",
   "execution_count": 119,
   "metadata": {
    "collapsed": false
   },
   "outputs": [
    {
     "name": "stdout",
     "output_type": "stream",
     "text": [
      "Number of linear regression intervals with a r_squared < 0.3:\t1079\n",
      "Number of intervals refined with ambiguous outliers: \t98\n",
      "Number of intervals refined with splitting window: \t125\n"
     ]
    }
   ],
   "source": [
    "print 'Number of linear regression intervals with a r_squared < 0.3:\\t{2}\\nNumber of intervals refined with ambiguous outliers: \\t{1}\\nNumber of intervals refined with splitting window: \\t{0}'.format(\n",
    "    len(rf_struct2), len(m1_struct),np.sum((r_squared_array < badfitth)!=0))"
   ]
  },
  {
   "cell_type": "markdown",
   "metadata": {
    "collapsed": true
   },
   "source": [
    "# Get the best fit from the two methods"
   ]
  },
  {
   "cell_type": "code",
   "execution_count": 10,
   "metadata": {
    "collapsed": false
   },
   "outputs": [],
   "source": [
    "# badfit_idx = np.where(r_squared_array < badfitth)[0]\n",
    "badfit_idx = np.where(np.array([fit['r_squared'] for fit in lr_struct]) < badfitth)[0]\n",
    "refinedout = [None] * n\n",
    "\n",
    "for badidx in badfit_idx:\n",
    "    if m1_struct[badidx] != None:           \n",
    "        cumulative_rsqrd_m1 = np.sum(np.power(np.array([item['r_value'] for item in m1_struct[badidx]]),2))\n",
    "        cumulative_rsqrd_m2 = np.sum(np.power(np.array([rf_struct1[badidx][rf_bfidx[badidx]]['r_value'], rf_struct2[badidx][rf_bfidx[badidx]]['r_value']]),2))\n",
    "        \n",
    "        if cumulative_rsqrd_m1 < cumulative_rsqrd_m2:\n",
    "            refinedout.insert(badidx, [rf_struct1[badidx][rf_bfidx[badidx]], rf_struct2[badidx][rf_bfidx[badidx]]])\n",
    "        else:\n",
    "            refinedout.insert(badidx, m1_struct[badidx])\n",
    "            \n",
    "        cumulative_rsqrd_rf = np.sum(np.power(np.array([item['r_value'] for item in refinedout[badidx]]),2))\n",
    "                   \n",
    "    elif rf_struct1[badidx] != None:\n",
    "        refinedout.insert(badidx, [rf_struct1[badidx][rf_bfidx[badidx]], rf_struct2[badidx][rf_bfidx[badidx]]])"
   ]
  },
  {
   "cell_type": "markdown",
   "metadata": {
    "collapsed": false
   },
   "source": [
    "#Plot the two methods"
   ]
  },
  {
   "cell_type": "code",
   "execution_count": null,
   "metadata": {
    "collapsed": false
   },
   "outputs": [],
   "source": [
    "f, ax = plt.subplots(3, sharex = True,sharey = True)\n",
    "\n",
    "# SUBPLOT 1: gaze, outliers and original linear regression  -- -- -- -- -- -- -- -- -- -- -- -- -- -- -- -- -- -- -- -- \n",
    "\n",
    "ax[0].plot(df['time'], df['LEpos_int'])  # plot gaze\n",
    "ax[0].scatter(df['time'][df['Outlierfiltered']], df['LEpos_int'][df['Outlierfiltered']],color ='r')\n",
    "ax[0].scatter(df['time'][df['isAmbiguousOutlier']], df['LEpos_int'][df['isAmbiguousOutlier']],color ='y')\n",
    "\n",
    "for i in range(n):  \n",
    "    \n",
    "    a = lr_struct[i]\n",
    "    axaxis = np.array([a['start'],a['end']])\n",
    "    ax[0].plot(axaxis, a['slope']*axaxis + a['intercept'], 'r')\n",
    "    \n",
    "    # compute annotation coordinates\n",
    "    x = axaxis[0] + np.diff(axaxis)[0]/2.0\n",
    "    y = np.diff(a['slope']*axaxis + a['intercept'])[0]/2.0 + 2\n",
    "    ax[0].annotate('r^2: {0}\\nRSS: {1}\\nslp: {2}'.format(\n",
    "                    \"%.2f\" % a['r_value']**2,\"%.2f\" % a['RSS'], \"%.4f\" % a['slope']),\n",
    "                           xy=(x,y), horizontalalignment='center', verticalalignment='bottom')\n",
    "\n",
    "    \n",
    "\n",
    "    \n",
    "# SUBPLOT 2: gaze and refined linear regression method 1 (ambiguous outliers) -- -- -- -- -- -- -- -- -- -- -- -- -- -- \n",
    "ax[1].plot(df['time'], df['LEpos_int'])  # plot gaze\n",
    "\n",
    "for fit in (m1_struct):\n",
    "    if fit != None:\n",
    "        for j in range(len(fit)):\n",
    "            a = fit[j]\n",
    "            axaxis = np.array([a['start'],a['end']])\n",
    "            ax[1].plot(axaxis, a['slope']*axaxis + a['intercept'], 'g')\n",
    "\n",
    "            # compute annotation coordinates\n",
    "            x = axaxis[0] + np.diff(axaxis)[0]/2.0\n",
    "            y = np.diff(a['slope']*axaxis + a['intercept'])[0]/2.0 + 2\n",
    "            ax[1].annotate('r^2: {0}\\nRSS: {1}\\nslp: {2}'.format(\n",
    "                    \"%.2f\" % a['r_value']**2,\"%.2f\" % a['RSS'], \"%.4f\" % a['slope']),\n",
    "                           xy=(x,y), horizontalalignment='center', verticalalignment='bottom')\n",
    "            \n",
    "            ax[1].plot([a['end'],a['end']], [-2*y,2*y], 'm')\n",
    "    \n",
    "    \n",
    "# SUBPLOT 3: gaze and refined linear regression method 2 (splitting window) -- -- -- -- -- -- -- -- -- -- -- -- -- -- \n",
    "ax[2].plot(df['time'], df['LEpos_int'])  # plot gaze\n",
    "\n",
    "for i in range(len(rf_struct1)):\n",
    "    if rf_struct1[i] != None:\n",
    "        a = rf_struct1[i][rf_bfidx[i]]\n",
    "\n",
    "        axaxis = np.array([a['start'],a['end']])\n",
    "        ax[2].plot(axaxis, a['slope']*axaxis + a['intercept'], 'g')\n",
    "\n",
    "        # compute annotation coordinates\n",
    "        x = axaxis[0] + np.diff(axaxis)[0]/2.0\n",
    "        y = np.diff(a['slope']*axaxis + a['intercept'])[0]/2.0 + 2\n",
    "        ax[2].annotate('r^2: {0}\\nRSS: {1}\\nslp: {2}'.format(\n",
    "                    \"%.2f\" % a['r_value']**2,\"%.2f\" % a['RSS'], \"%.4f\" % a['slope']),\n",
    "                           xy=(x,y), horizontalalignment='center', verticalalignment='bottom')\n",
    "\n",
    "        ax[2].plot([a['end'],a['end']], [-np.mean(df['LEpos_int']), np.mean(df['LEpos_int'])], 'y')\n",
    "\n",
    "\n",
    "        a = rf_struct2[i][rf_bfidx[i]]\n",
    "\n",
    "        axaxis = np.array([a['start'],a['end']])\n",
    "        ax[2].plot(axaxis, a['slope']*axaxis + a['intercept'], 'g')\n",
    "\n",
    "        # compute annotation coordinates\n",
    "        x = axaxis[0] + np.diff(axaxis)[0]/2.0\n",
    "        y = np.diff(a['slope']*axaxis + a['intercept'])[0]/2.0 + 2\n",
    "        ax[2].annotate('r^2: {0}\\nRSS: {1}\\nslp: {2}'.format(\n",
    "                    \"%.2f\" % a['r_value']**2,\"%.2f\" % a['RSS'], \"%.4f\" % a['slope']),\n",
    "                           xy=(x,y), horizontalalignment='center', verticalalignment='bottom')\n",
    "        \n",
    "        ax[2].plot([a['end'],a['end']], [-2*y,2*y], 'm')\n",
    "\n",
    "    \n",
    "# # SUBPLOT 3: gaze and refined linear regression with best method -- -- -- -- -- -- -- -- -- -- -- -- -- -- -- -- -- -- \n",
    "# ax[3].plot(df['time'], df['LEpos_int'])  # plot gaze\n",
    "\n",
    "# for fit in (refinedout):\n",
    "#     if fit != None:\n",
    "#         for j in range(len(fit)):\n",
    "#             a = fit[j]\n",
    "#             axaxis = np.array([a['start'],a['end']])\n",
    "#             ax[3].plot(axaxis, a['slope']*axaxis + a['intercept'], 'g')\n",
    "\n",
    "#             # compute annotation coordinates\n",
    "#             x = axaxis[0] + np.diff(axaxis)[0]/2.0\n",
    "#             y = np.diff(a['slope']*axaxis + a['intercept'])[0]/2.0 + 2\n",
    "#             ax[3].annotate('r^2: {0}\\nRSS: {1}'.format(\"%.2f\" % a['r_value']**2, \"%.2f\" % a['RSS']), xy=(x,y), horizontalalignment='center', verticalalignment='bottom')\n",
    "\n",
    "#             ax[3].plot([a['end'],a['end']], [-2*y,2*y], 'm')\n",
    "\n",
    "    \n",
    "\n",
    "f.suptitle(ds.filename)\n",
    "ax[0].set_title('eye gaze with linear regression and r squared values')\n",
    "ax[1].set_title('refined linear regression: method 1 (ambiguous outliers)')\n",
    "ax[2].set_title('refined linear regression: method 2 (split interval)')\n",
    "# ax[3].set_title('greater summed r squared')\n",
    "\n",
    "plt.show()"
   ]
  },
  {
   "cell_type": "markdown",
   "metadata": {
    "collapsed": false
   },
   "source": [
    "**Plot original linear regression with r squared, RSS and slope values**"
   ]
  },
  {
   "cell_type": "code",
   "execution_count": null,
   "metadata": {
    "collapsed": false
   },
   "outputs": [],
   "source": [
    "f, ax = plt.subplots(1, sharex = True,sharey = True)\n",
    "\n",
    "# SUBPLOT 1: gaze, outliers and original linear regression  -- -- -- -- -- -- -- -- -- -- -- -- -- -- -- -- -- -- -- -- \n",
    "\n",
    "ax.plot(df['time'], df['LEpos_int'])  # plot gaze\n",
    "ax.scatter(df['time'][df['Outlierfiltered']], df['LEpos_int'][df['Outlierfiltered']],color ='r')\n",
    "ax.scatter(df['time'][df['isAmbiguousOutlier']], df['LEpos_int'][df['isAmbiguousOutlier']],color ='y')\n",
    "\n",
    "for i in range(n):  \n",
    "    a = lr_struct[i]\n",
    "    if abs(a['slope']) < 10.0008:\n",
    "        axaxis = np.array([a['start'],a['end']])\n",
    "        ax.plot(axaxis, a['slope']*axaxis + a['intercept'], 'r')\n",
    "\n",
    "        # compute annotation coordinates\n",
    "        x = axaxis[0] + np.diff(axaxis)[0]/2.0\n",
    "        y = np.diff(a['slope']*axaxis + a['intercept'])[0]/2.0 + 2\n",
    "        ax.annotate('r^2: {0}\\nRSS: {1}\\nslp: {2}'.format(\n",
    "                        \"%.2f\" % a['r_value']**2,\"%.2f\" % a['RSS'], \"%.4f\" % a['slope']),\n",
    "                               xy=(x,y), horizontalalignment='center', verticalalignment='bottom')   \n",
    "\n",
    "f.suptitle(ds.filename)\n",
    "ax.set_title('eye gaze with linear regression and r squared values')\n",
    "\n",
    "plt.show()"
   ]
  },
  {
   "cell_type": "markdown",
   "metadata": {
    "collapsed": true
   },
   "source": [
    "#NEXT STEP: CLASSIFY PERCEPTS"
   ]
  },
  {
   "cell_type": "markdown",
   "metadata": {},
   "source": [
    "1 - Create new struct and fill it with good fits of the original linear regression and the best from the refined"
   ]
  },
  {
   "cell_type": "code",
   "execution_count": 129,
   "metadata": {
    "collapsed": true
   },
   "outputs": [],
   "source": [
    "newlrstruct = []\n",
    "for i in range(n):                     # for all the outlier-intervals\n",
    "    if i in badfit_idx and refinedout[i] != None:                # if it is a bad fit in the original linear regression\n",
    "        for item in refinedout[i]:\n",
    "            newlrstruct.append(item)\n",
    "    else:                              # if it was a good fit\n",
    "        newlrstruct.append(lr_struct[i])"
   ]
  },
  {
   "cell_type": "markdown",
   "metadata": {},
   "source": [
    "2 - Define threshold of length of interval, slope and r squared"
   ]
  },
  {
   "cell_type": "code",
   "execution_count": 76,
   "metadata": {
    "collapsed": true
   },
   "outputs": [],
   "source": [
    "threslen = 30       # minimal segment length\n",
    "thresslo = 0.0007   # slope threshold\n",
    "thresrsq = badfitth # r squared threshold"
   ]
  },
  {
   "cell_type": "markdown",
   "metadata": {
    "collapsed": true
   },
   "source": [
    "2 - For each fit, get the length, the slope and the r squared"
   ]
  },
  {
   "cell_type": "code",
   "execution_count": 137,
   "metadata": {
    "collapsed": false
   },
   "outputs": [],
   "source": [
    "elsec = 0\n",
    "ifc = 0\n",
    "for fit in newlrstruct:\n",
    "    fit['percept'] = classifyfit(fit)          "
   ]
  },
  {
   "cell_type": "code",
   "execution_count": 140,
   "metadata": {
    "collapsed": false
   },
   "outputs": [],
   "source": [
    "p = []\n",
    "for fit in newlrstruct:\n",
    "    p.append(fit['percept'])\n",
    "# np.where(p=='B')\n",
    "# p"
   ]
  },
  {
   "cell_type": "code",
   "execution_count": null,
   "metadata": {
    "collapsed": false
   },
   "outputs": [],
   "source": []
  },
  {
   "cell_type": "code",
   "execution_count": 96,
   "metadata": {
    "collapsed": false
   },
   "outputs": [],
   "source": [
    "def classifyfit(fit, threslen = 30, thresslo = 0.0007, thresrsq = 0.3):\n",
    "    \"\"\"\n",
    "        Compute the percept for a given fit.\n",
    "        Three possibilities: A, B, ambiguous\n",
    "        \n",
    "        Input:\n",
    "        - fit: dict containing the result of a linear regression using regressionbtwpoints()\n",
    "        - threslen: minimum interval length. If len(fit) < threslen, percept = ambiguous\n",
    "        - thresslo: minimum slope absolute value.\n",
    "        - thresrsq: minimum r squared value.\n",
    "    \"\"\"\n",
    "    \n",
    "    # get length of interval in samples:\n",
    "    fit_len = fit['end_idx'] - fit['start_idx']\n",
    "\n",
    "    # condition 1: interval larger than threslen:\n",
    "    c1 = fit_len >= threslen\n",
    "\n",
    "    # condition 2.1: absolute value of slope larger than thresslo:\n",
    "    c21 = np.abs(fit['slope']) > thresslo\n",
    "\n",
    "    # condition 2.2: slope value positive or negative:\n",
    "    c22 = fit['slope'] > 0 # slope<0: A, slope>0: B\n",
    "\n",
    "    # condition 3: r squared higher than thresrsq:\n",
    "    c3 = fit['r_squared'] > thresrsq\n",
    "\n",
    "    # classify percept -- -- -- -- -- -- -- -- -- -- -- -- -- -- -- -- \n",
    "    if c1 and c21 and c3:\n",
    "        if c22:\n",
    "            percept = 'B'\n",
    "        else:\n",
    "            percept = 'A'\n",
    "    else\n",
    "        percept = 'ambg'\n",
    "        \n",
    "    return percept"
   ]
  },
  {
   "cell_type": "code",
   "execution_count": null,
   "metadata": {
    "collapsed": true
   },
   "outputs": [],
   "source": []
  },
  {
   "cell_type": "code",
   "execution_count": null,
   "metadata": {
    "collapsed": false
   },
   "outputs": [],
   "source": [
    "f, ax = plt.subplots(1, sharex = True,sharey = True)\n",
    "\n",
    "# SUBPLOT 1: gaze, outliers and original linear regression  -- -- -- -- -- -- -- -- -- -- -- -- -- -- -- -- -- -- -- -- \n",
    "\n",
    "ax.plot(df['time'], df['LEpos_int'])  # plot gaze\n",
    "ax.scatter(df['time'][df['Outlierfiltered']], df['LEpos_int'][df['Outlierfiltered']],color ='r')\n",
    "ax.scatter(df['time'][df['isAmbiguousOutlier']], df['LEpos_int'][df['isAmbiguousOutlier']],color ='y')\n",
    "\n",
    "for i in range(n):  \n",
    "    a = newlrstruct[i]\n",
    "    if abs(a['slope']) < 10.0008:\n",
    "        axaxis = np.array([a['start'],a['end']])\n",
    "        ax.plot(axaxis, a['slope']*axaxis + a['intercept'], 'r')\n",
    "\n",
    "        # compute annotation coordinates\n",
    "        x = axaxis[0] + np.diff(axaxis)[0]/2.0\n",
    "        y = np.diff(a['slope']*axaxis + a['intercept'])[0]/2.0 + 2\n",
    "        ax.annotate('r^2: {0}\\nRSS: {1}\\nslp: {2}\\n{3}'.format(\n",
    "                        \"%.2f\" % a['r_value']**2,\"%.2f\" % a['RSS'], \"%.4f\" % a['slope'], a['percept']),\n",
    "                               xy=(x,y), horizontalalignment='center', verticalalignment='bottom')   \n",
    "\n",
    "f.suptitle(ds.filename)\n",
    "ax.set_title('eye gaze with linear regression and r squared values')\n",
    "\n",
    "plt.show()"
   ]
  },
  {
   "cell_type": "code",
   "execution_count": null,
   "metadata": {
    "collapsed": true
   },
   "outputs": [],
   "source": []
  }
 ],
 "metadata": {
  "kernelspec": {
   "display_name": "Python 2",
   "language": "python",
   "name": "python2"
  },
  "language_info": {
   "codemirror_mode": {
    "name": "ipython",
    "version": 2
   },
   "file_extension": ".py",
   "mimetype": "text/x-python",
   "name": "python",
   "nbconvert_exporter": "python",
   "pygments_lexer": "ipython2",
   "version": "2.7.7"
  }
 },
 "nbformat": 4,
 "nbformat_minor": 0
}
